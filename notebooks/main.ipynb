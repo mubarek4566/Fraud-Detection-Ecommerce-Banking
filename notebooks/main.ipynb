{
 "cells": [
  {
   "cell_type": "code",
   "execution_count": 1,
   "id": "d4142fe4",
   "metadata": {},
   "outputs": [],
   "source": [
    "import pandas as pd \n",
    "import numpy as np \n",
    "import sys\n",
    "import os\n",
    "\n",
    "# Load other functions\n",
    "sys.path.append(os.path.abspath('../src'))\n",
    "sys.path.append(os.path.abspath('../scripts'))\n",
    "\n",
    "from Load_data import CSVDataloader, get_file_path\n",
    "from EDA import univariate_analysis, bivariate_analysis, merge_datasets, analyze_class_distribution\n",
    "from preprocessing import preprocess"
   ]
  },
  {
   "cell_type": "code",
   "execution_count": 2,
   "id": "1dd6a4e0",
   "metadata": {},
   "outputs": [],
   "source": [
    "# Load credit data\n",
    "credit_path = get_file_path(\"credit\")\n",
    "credit_loader = CSVDataloader(credit_path)\n",
    "df_credit = credit_loader.load_data()\n",
    "\n",
    "# Load fraud data\n",
    "fraud_path = get_file_path(\"fraud\")\n",
    "fraud_loader = CSVDataloader(fraud_path)\n",
    "df_fraud = fraud_loader.load_data()\n",
    "\n",
    "# Load IPAddress data\n",
    "IPAddress_path = get_file_path(\"IpAddresss\")\n",
    "IPAddress_loader = CSVDataloader(IPAddress_path)\n",
    "df_Address = IPAddress_loader.load_data()\n"
   ]
  },
  {
   "cell_type": "code",
   "execution_count": 3,
   "id": "356dd061",
   "metadata": {},
   "outputs": [
    {
     "data": {
      "text/html": [
       "<div>\n",
       "<style scoped>\n",
       "    .dataframe tbody tr th:only-of-type {\n",
       "        vertical-align: middle;\n",
       "    }\n",
       "\n",
       "    .dataframe tbody tr th {\n",
       "        vertical-align: top;\n",
       "    }\n",
       "\n",
       "    .dataframe thead th {\n",
       "        text-align: right;\n",
       "    }\n",
       "</style>\n",
       "<table border=\"1\" class=\"dataframe\">\n",
       "  <thead>\n",
       "    <tr style=\"text-align: right;\">\n",
       "      <th></th>\n",
       "      <th>Time</th>\n",
       "      <th>V1</th>\n",
       "      <th>V2</th>\n",
       "      <th>V3</th>\n",
       "      <th>V4</th>\n",
       "      <th>V5</th>\n",
       "      <th>V6</th>\n",
       "      <th>V7</th>\n",
       "      <th>V8</th>\n",
       "      <th>V9</th>\n",
       "      <th>...</th>\n",
       "      <th>V21</th>\n",
       "      <th>V22</th>\n",
       "      <th>V23</th>\n",
       "      <th>V24</th>\n",
       "      <th>V25</th>\n",
       "      <th>V26</th>\n",
       "      <th>V27</th>\n",
       "      <th>V28</th>\n",
       "      <th>Amount</th>\n",
       "      <th>Class</th>\n",
       "    </tr>\n",
       "  </thead>\n",
       "  <tbody>\n",
       "    <tr>\n",
       "      <th>0</th>\n",
       "      <td>0.0</td>\n",
       "      <td>-1.359807</td>\n",
       "      <td>-0.072781</td>\n",
       "      <td>2.536347</td>\n",
       "      <td>1.378155</td>\n",
       "      <td>-0.338321</td>\n",
       "      <td>0.462388</td>\n",
       "      <td>0.239599</td>\n",
       "      <td>0.098698</td>\n",
       "      <td>0.363787</td>\n",
       "      <td>...</td>\n",
       "      <td>-0.018307</td>\n",
       "      <td>0.277838</td>\n",
       "      <td>-0.110474</td>\n",
       "      <td>0.066928</td>\n",
       "      <td>0.128539</td>\n",
       "      <td>-0.189115</td>\n",
       "      <td>0.133558</td>\n",
       "      <td>-0.021053</td>\n",
       "      <td>149.62</td>\n",
       "      <td>0</td>\n",
       "    </tr>\n",
       "    <tr>\n",
       "      <th>1</th>\n",
       "      <td>0.0</td>\n",
       "      <td>1.191857</td>\n",
       "      <td>0.266151</td>\n",
       "      <td>0.166480</td>\n",
       "      <td>0.448154</td>\n",
       "      <td>0.060018</td>\n",
       "      <td>-0.082361</td>\n",
       "      <td>-0.078803</td>\n",
       "      <td>0.085102</td>\n",
       "      <td>-0.255425</td>\n",
       "      <td>...</td>\n",
       "      <td>-0.225775</td>\n",
       "      <td>-0.638672</td>\n",
       "      <td>0.101288</td>\n",
       "      <td>-0.339846</td>\n",
       "      <td>0.167170</td>\n",
       "      <td>0.125895</td>\n",
       "      <td>-0.008983</td>\n",
       "      <td>0.014724</td>\n",
       "      <td>2.69</td>\n",
       "      <td>0</td>\n",
       "    </tr>\n",
       "    <tr>\n",
       "      <th>2</th>\n",
       "      <td>1.0</td>\n",
       "      <td>-1.358354</td>\n",
       "      <td>-1.340163</td>\n",
       "      <td>1.773209</td>\n",
       "      <td>0.379780</td>\n",
       "      <td>-0.503198</td>\n",
       "      <td>1.800499</td>\n",
       "      <td>0.791461</td>\n",
       "      <td>0.247676</td>\n",
       "      <td>-1.514654</td>\n",
       "      <td>...</td>\n",
       "      <td>0.247998</td>\n",
       "      <td>0.771679</td>\n",
       "      <td>0.909412</td>\n",
       "      <td>-0.689281</td>\n",
       "      <td>-0.327642</td>\n",
       "      <td>-0.139097</td>\n",
       "      <td>-0.055353</td>\n",
       "      <td>-0.059752</td>\n",
       "      <td>378.66</td>\n",
       "      <td>0</td>\n",
       "    </tr>\n",
       "    <tr>\n",
       "      <th>3</th>\n",
       "      <td>1.0</td>\n",
       "      <td>-0.966272</td>\n",
       "      <td>-0.185226</td>\n",
       "      <td>1.792993</td>\n",
       "      <td>-0.863291</td>\n",
       "      <td>-0.010309</td>\n",
       "      <td>1.247203</td>\n",
       "      <td>0.237609</td>\n",
       "      <td>0.377436</td>\n",
       "      <td>-1.387024</td>\n",
       "      <td>...</td>\n",
       "      <td>-0.108300</td>\n",
       "      <td>0.005274</td>\n",
       "      <td>-0.190321</td>\n",
       "      <td>-1.175575</td>\n",
       "      <td>0.647376</td>\n",
       "      <td>-0.221929</td>\n",
       "      <td>0.062723</td>\n",
       "      <td>0.061458</td>\n",
       "      <td>123.50</td>\n",
       "      <td>0</td>\n",
       "    </tr>\n",
       "    <tr>\n",
       "      <th>4</th>\n",
       "      <td>2.0</td>\n",
       "      <td>-1.158233</td>\n",
       "      <td>0.877737</td>\n",
       "      <td>1.548718</td>\n",
       "      <td>0.403034</td>\n",
       "      <td>-0.407193</td>\n",
       "      <td>0.095921</td>\n",
       "      <td>0.592941</td>\n",
       "      <td>-0.270533</td>\n",
       "      <td>0.817739</td>\n",
       "      <td>...</td>\n",
       "      <td>-0.009431</td>\n",
       "      <td>0.798278</td>\n",
       "      <td>-0.137458</td>\n",
       "      <td>0.141267</td>\n",
       "      <td>-0.206010</td>\n",
       "      <td>0.502292</td>\n",
       "      <td>0.219422</td>\n",
       "      <td>0.215153</td>\n",
       "      <td>69.99</td>\n",
       "      <td>0</td>\n",
       "    </tr>\n",
       "  </tbody>\n",
       "</table>\n",
       "<p>5 rows × 31 columns</p>\n",
       "</div>"
      ],
      "text/plain": [
       "   Time        V1        V2        V3        V4        V5        V6        V7  \\\n",
       "0   0.0 -1.359807 -0.072781  2.536347  1.378155 -0.338321  0.462388  0.239599   \n",
       "1   0.0  1.191857  0.266151  0.166480  0.448154  0.060018 -0.082361 -0.078803   \n",
       "2   1.0 -1.358354 -1.340163  1.773209  0.379780 -0.503198  1.800499  0.791461   \n",
       "3   1.0 -0.966272 -0.185226  1.792993 -0.863291 -0.010309  1.247203  0.237609   \n",
       "4   2.0 -1.158233  0.877737  1.548718  0.403034 -0.407193  0.095921  0.592941   \n",
       "\n",
       "         V8        V9  ...       V21       V22       V23       V24       V25  \\\n",
       "0  0.098698  0.363787  ... -0.018307  0.277838 -0.110474  0.066928  0.128539   \n",
       "1  0.085102 -0.255425  ... -0.225775 -0.638672  0.101288 -0.339846  0.167170   \n",
       "2  0.247676 -1.514654  ...  0.247998  0.771679  0.909412 -0.689281 -0.327642   \n",
       "3  0.377436 -1.387024  ... -0.108300  0.005274 -0.190321 -1.175575  0.647376   \n",
       "4 -0.270533  0.817739  ... -0.009431  0.798278 -0.137458  0.141267 -0.206010   \n",
       "\n",
       "        V26       V27       V28  Amount  Class  \n",
       "0 -0.189115  0.133558 -0.021053  149.62      0  \n",
       "1  0.125895 -0.008983  0.014724    2.69      0  \n",
       "2 -0.139097 -0.055353 -0.059752  378.66      0  \n",
       "3 -0.221929  0.062723  0.061458  123.50      0  \n",
       "4  0.502292  0.219422  0.215153   69.99      0  \n",
       "\n",
       "[5 rows x 31 columns]"
      ]
     },
     "execution_count": 3,
     "metadata": {},
     "output_type": "execute_result"
    }
   ],
   "source": [
    "# Load credit dataset\n",
    "df_credit.head()"
   ]
  },
  {
   "cell_type": "code",
   "execution_count": 4,
   "id": "e61de278",
   "metadata": {},
   "outputs": [
    {
     "data": {
      "text/html": [
       "<div>\n",
       "<style scoped>\n",
       "    .dataframe tbody tr th:only-of-type {\n",
       "        vertical-align: middle;\n",
       "    }\n",
       "\n",
       "    .dataframe tbody tr th {\n",
       "        vertical-align: top;\n",
       "    }\n",
       "\n",
       "    .dataframe thead th {\n",
       "        text-align: right;\n",
       "    }\n",
       "</style>\n",
       "<table border=\"1\" class=\"dataframe\">\n",
       "  <thead>\n",
       "    <tr style=\"text-align: right;\">\n",
       "      <th></th>\n",
       "      <th>user_id</th>\n",
       "      <th>signup_time</th>\n",
       "      <th>purchase_time</th>\n",
       "      <th>purchase_value</th>\n",
       "      <th>device_id</th>\n",
       "      <th>source</th>\n",
       "      <th>browser</th>\n",
       "      <th>sex</th>\n",
       "      <th>age</th>\n",
       "      <th>ip_address</th>\n",
       "      <th>class</th>\n",
       "    </tr>\n",
       "  </thead>\n",
       "  <tbody>\n",
       "    <tr>\n",
       "      <th>0</th>\n",
       "      <td>22058</td>\n",
       "      <td>2/24/2015 22:55</td>\n",
       "      <td>4/18/2015 2:47</td>\n",
       "      <td>34</td>\n",
       "      <td>QVPSPJUOCKZAR</td>\n",
       "      <td>SEO</td>\n",
       "      <td>Chrome</td>\n",
       "      <td>M</td>\n",
       "      <td>39</td>\n",
       "      <td>7.327584e+08</td>\n",
       "      <td>0</td>\n",
       "    </tr>\n",
       "    <tr>\n",
       "      <th>1</th>\n",
       "      <td>333320</td>\n",
       "      <td>6/7/2015 20:39</td>\n",
       "      <td>6/8/2015 1:38</td>\n",
       "      <td>16</td>\n",
       "      <td>EOGFQPIZPYXFZ</td>\n",
       "      <td>Ads</td>\n",
       "      <td>Chrome</td>\n",
       "      <td>F</td>\n",
       "      <td>53</td>\n",
       "      <td>3.503114e+08</td>\n",
       "      <td>0</td>\n",
       "    </tr>\n",
       "    <tr>\n",
       "      <th>2</th>\n",
       "      <td>1359</td>\n",
       "      <td>1/1/2015 18:52</td>\n",
       "      <td>1/1/2015 18:52</td>\n",
       "      <td>15</td>\n",
       "      <td>YSSKYOSJHPPLJ</td>\n",
       "      <td>SEO</td>\n",
       "      <td>Opera</td>\n",
       "      <td>M</td>\n",
       "      <td>53</td>\n",
       "      <td>2.621474e+09</td>\n",
       "      <td>1</td>\n",
       "    </tr>\n",
       "    <tr>\n",
       "      <th>3</th>\n",
       "      <td>150084</td>\n",
       "      <td>4/28/2015 21:13</td>\n",
       "      <td>5/4/2015 13:54</td>\n",
       "      <td>44</td>\n",
       "      <td>ATGTXKYKUDUQN</td>\n",
       "      <td>SEO</td>\n",
       "      <td>Safari</td>\n",
       "      <td>M</td>\n",
       "      <td>41</td>\n",
       "      <td>3.840542e+09</td>\n",
       "      <td>0</td>\n",
       "    </tr>\n",
       "    <tr>\n",
       "      <th>4</th>\n",
       "      <td>221365</td>\n",
       "      <td>7/21/2015 7:09</td>\n",
       "      <td>9/9/2015 18:40</td>\n",
       "      <td>39</td>\n",
       "      <td>NAUITBZFJKHWW</td>\n",
       "      <td>Ads</td>\n",
       "      <td>Safari</td>\n",
       "      <td>M</td>\n",
       "      <td>45</td>\n",
       "      <td>4.155831e+08</td>\n",
       "      <td>0</td>\n",
       "    </tr>\n",
       "  </tbody>\n",
       "</table>\n",
       "</div>"
      ],
      "text/plain": [
       "   user_id      signup_time   purchase_time  purchase_value      device_id  \\\n",
       "0    22058  2/24/2015 22:55  4/18/2015 2:47              34  QVPSPJUOCKZAR   \n",
       "1   333320   6/7/2015 20:39   6/8/2015 1:38              16  EOGFQPIZPYXFZ   \n",
       "2     1359   1/1/2015 18:52  1/1/2015 18:52              15  YSSKYOSJHPPLJ   \n",
       "3   150084  4/28/2015 21:13  5/4/2015 13:54              44  ATGTXKYKUDUQN   \n",
       "4   221365   7/21/2015 7:09  9/9/2015 18:40              39  NAUITBZFJKHWW   \n",
       "\n",
       "  source browser sex  age    ip_address  class  \n",
       "0    SEO  Chrome   M   39  7.327584e+08      0  \n",
       "1    Ads  Chrome   F   53  3.503114e+08      0  \n",
       "2    SEO   Opera   M   53  2.621474e+09      1  \n",
       "3    SEO  Safari   M   41  3.840542e+09      0  \n",
       "4    Ads  Safari   M   45  4.155831e+08      0  "
      ]
     },
     "execution_count": 4,
     "metadata": {},
     "output_type": "execute_result"
    }
   ],
   "source": [
    "# Load credit dataset\n",
    "df_fraud.head()"
   ]
  },
  {
   "cell_type": "code",
   "execution_count": 5,
   "id": "56249f2c",
   "metadata": {},
   "outputs": [
    {
     "data": {
      "text/html": [
       "<div>\n",
       "<style scoped>\n",
       "    .dataframe tbody tr th:only-of-type {\n",
       "        vertical-align: middle;\n",
       "    }\n",
       "\n",
       "    .dataframe tbody tr th {\n",
       "        vertical-align: top;\n",
       "    }\n",
       "\n",
       "    .dataframe thead th {\n",
       "        text-align: right;\n",
       "    }\n",
       "</style>\n",
       "<table border=\"1\" class=\"dataframe\">\n",
       "  <thead>\n",
       "    <tr style=\"text-align: right;\">\n",
       "      <th></th>\n",
       "      <th>lower_bound_ip_address</th>\n",
       "      <th>upper_bound_ip_address</th>\n",
       "      <th>country</th>\n",
       "    </tr>\n",
       "  </thead>\n",
       "  <tbody>\n",
       "    <tr>\n",
       "      <th>0</th>\n",
       "      <td>16777216.0</td>\n",
       "      <td>16777471</td>\n",
       "      <td>Australia</td>\n",
       "    </tr>\n",
       "    <tr>\n",
       "      <th>1</th>\n",
       "      <td>16777472.0</td>\n",
       "      <td>16777727</td>\n",
       "      <td>China</td>\n",
       "    </tr>\n",
       "    <tr>\n",
       "      <th>2</th>\n",
       "      <td>16777728.0</td>\n",
       "      <td>16778239</td>\n",
       "      <td>China</td>\n",
       "    </tr>\n",
       "    <tr>\n",
       "      <th>3</th>\n",
       "      <td>16778240.0</td>\n",
       "      <td>16779263</td>\n",
       "      <td>Australia</td>\n",
       "    </tr>\n",
       "    <tr>\n",
       "      <th>4</th>\n",
       "      <td>16779264.0</td>\n",
       "      <td>16781311</td>\n",
       "      <td>China</td>\n",
       "    </tr>\n",
       "  </tbody>\n",
       "</table>\n",
       "</div>"
      ],
      "text/plain": [
       "   lower_bound_ip_address  upper_bound_ip_address    country\n",
       "0              16777216.0                16777471  Australia\n",
       "1              16777472.0                16777727      China\n",
       "2              16777728.0                16778239      China\n",
       "3              16778240.0                16779263  Australia\n",
       "4              16779264.0                16781311      China"
      ]
     },
     "execution_count": 5,
     "metadata": {},
     "output_type": "execute_result"
    }
   ],
   "source": [
    "df_Address.head()"
   ]
  },
  {
   "cell_type": "markdown",
   "id": "445537ef",
   "metadata": {},
   "source": [
    "## Data Analysis and Preprocessing"
   ]
  },
  {
   "cell_type": "code",
   "execution_count": 6,
   "id": "1a43ac57",
   "metadata": {},
   "outputs": [
    {
     "name": "stdout",
     "output_type": "stream",
     "text": [
      "<class 'pandas.core.frame.DataFrame'>\n",
      "RangeIndex: 151112 entries, 0 to 151111\n",
      "Data columns (total 11 columns):\n",
      " #   Column          Non-Null Count   Dtype  \n",
      "---  ------          --------------   -----  \n",
      " 0   user_id         151112 non-null  int64  \n",
      " 1   signup_time     151112 non-null  object \n",
      " 2   purchase_time   151112 non-null  object \n",
      " 3   purchase_value  151112 non-null  int64  \n",
      " 4   device_id       151112 non-null  object \n",
      " 5   source          151112 non-null  object \n",
      " 6   browser         151112 non-null  object \n",
      " 7   sex             151112 non-null  object \n",
      " 8   age             151112 non-null  int64  \n",
      " 9   ip_address      151112 non-null  float64\n",
      " 10  class           151112 non-null  int64  \n",
      "dtypes: float64(1), int64(4), object(6)\n",
      "memory usage: 12.7+ MB\n"
     ]
    }
   ],
   "source": [
    "df_fraud.info()"
   ]
  },
  {
   "cell_type": "code",
   "execution_count": 12,
   "id": "c9103452",
   "metadata": {},
   "outputs": [
    {
     "data": {
      "text/html": [
       "<div>\n",
       "<style scoped>\n",
       "    .dataframe tbody tr th:only-of-type {\n",
       "        vertical-align: middle;\n",
       "    }\n",
       "\n",
       "    .dataframe tbody tr th {\n",
       "        vertical-align: top;\n",
       "    }\n",
       "\n",
       "    .dataframe thead th {\n",
       "        text-align: right;\n",
       "    }\n",
       "</style>\n",
       "<table border=\"1\" class=\"dataframe\">\n",
       "  <thead>\n",
       "    <tr style=\"text-align: right;\">\n",
       "      <th></th>\n",
       "      <th>user_id</th>\n",
       "      <th>purchase_value</th>\n",
       "      <th>age</th>\n",
       "      <th>ip_address</th>\n",
       "      <th>class</th>\n",
       "    </tr>\n",
       "  </thead>\n",
       "  <tbody>\n",
       "    <tr>\n",
       "      <th>count</th>\n",
       "      <td>151112.000000</td>\n",
       "      <td>151112.000000</td>\n",
       "      <td>151112.000000</td>\n",
       "      <td>1.511120e+05</td>\n",
       "      <td>151112.000000</td>\n",
       "    </tr>\n",
       "    <tr>\n",
       "      <th>mean</th>\n",
       "      <td>200171.040970</td>\n",
       "      <td>36.935372</td>\n",
       "      <td>33.140704</td>\n",
       "      <td>2.152145e+09</td>\n",
       "      <td>0.093646</td>\n",
       "    </tr>\n",
       "    <tr>\n",
       "      <th>std</th>\n",
       "      <td>115369.285024</td>\n",
       "      <td>18.322762</td>\n",
       "      <td>8.617733</td>\n",
       "      <td>1.248497e+09</td>\n",
       "      <td>0.291336</td>\n",
       "    </tr>\n",
       "    <tr>\n",
       "      <th>min</th>\n",
       "      <td>2.000000</td>\n",
       "      <td>9.000000</td>\n",
       "      <td>18.000000</td>\n",
       "      <td>5.209350e+04</td>\n",
       "      <td>0.000000</td>\n",
       "    </tr>\n",
       "    <tr>\n",
       "      <th>25%</th>\n",
       "      <td>100642.500000</td>\n",
       "      <td>22.000000</td>\n",
       "      <td>27.000000</td>\n",
       "      <td>1.085934e+09</td>\n",
       "      <td>0.000000</td>\n",
       "    </tr>\n",
       "    <tr>\n",
       "      <th>50%</th>\n",
       "      <td>199958.000000</td>\n",
       "      <td>35.000000</td>\n",
       "      <td>33.000000</td>\n",
       "      <td>2.154770e+09</td>\n",
       "      <td>0.000000</td>\n",
       "    </tr>\n",
       "    <tr>\n",
       "      <th>75%</th>\n",
       "      <td>300054.000000</td>\n",
       "      <td>49.000000</td>\n",
       "      <td>39.000000</td>\n",
       "      <td>3.243258e+09</td>\n",
       "      <td>0.000000</td>\n",
       "    </tr>\n",
       "    <tr>\n",
       "      <th>max</th>\n",
       "      <td>400000.000000</td>\n",
       "      <td>154.000000</td>\n",
       "      <td>76.000000</td>\n",
       "      <td>4.294850e+09</td>\n",
       "      <td>1.000000</td>\n",
       "    </tr>\n",
       "  </tbody>\n",
       "</table>\n",
       "</div>"
      ],
      "text/plain": [
       "             user_id  purchase_value            age    ip_address  \\\n",
       "count  151112.000000   151112.000000  151112.000000  1.511120e+05   \n",
       "mean   200171.040970       36.935372      33.140704  2.152145e+09   \n",
       "std    115369.285024       18.322762       8.617733  1.248497e+09   \n",
       "min         2.000000        9.000000      18.000000  5.209350e+04   \n",
       "25%    100642.500000       22.000000      27.000000  1.085934e+09   \n",
       "50%    199958.000000       35.000000      33.000000  2.154770e+09   \n",
       "75%    300054.000000       49.000000      39.000000  3.243258e+09   \n",
       "max    400000.000000      154.000000      76.000000  4.294850e+09   \n",
       "\n",
       "               class  \n",
       "count  151112.000000  \n",
       "mean        0.093646  \n",
       "std         0.291336  \n",
       "min         0.000000  \n",
       "25%         0.000000  \n",
       "50%         0.000000  \n",
       "75%         0.000000  \n",
       "max         1.000000  "
      ]
     },
     "execution_count": 12,
     "metadata": {},
     "output_type": "execute_result"
    }
   ],
   "source": [
    "df_fraud.describe()"
   ]
  },
  {
   "cell_type": "code",
   "execution_count": 27,
   "id": "1331c473",
   "metadata": {},
   "outputs": [
    {
     "name": "stdout",
     "output_type": "stream",
     "text": [
      "\n",
      "Missing values in fraud dataset:\n"
     ]
    },
    {
     "data": {
      "text/plain": [
       "user_id           0\n",
       "signup_time       0\n",
       "purchase_time     0\n",
       "purchase_value    0\n",
       "device_id         0\n",
       "source            0\n",
       "browser           0\n",
       "sex               0\n",
       "age               0\n",
       "ip_address        0\n",
       "class             0\n",
       "dtype: int64"
      ]
     },
     "execution_count": 27,
     "metadata": {},
     "output_type": "execute_result"
    }
   ],
   "source": [
    "print(\"\\nMissing values in fraud dataset:\")\n",
    "df_fraud.isna().sum()"
   ]
  },
  {
   "cell_type": "code",
   "execution_count": 26,
   "id": "c5f2740e",
   "metadata": {},
   "outputs": [
    {
     "name": "stdout",
     "output_type": "stream",
     "text": [
      "\n",
      "Missing values in IP address dataset:\n",
      "lower_bound_ip_address    0\n",
      "upper_bound_ip_address    0\n",
      "country                   0\n",
      "dtype: int64\n"
     ]
    }
   ],
   "source": [
    "# Check for missing values in IP address dataset\n",
    "print(\"\\nMissing values in IP address dataset:\")\n",
    "print(df_Address.isnull().sum())\n"
   ]
  },
  {
   "cell_type": "code",
   "execution_count": 28,
   "id": "da3a5625",
   "metadata": {},
   "outputs": [
    {
     "name": "stdout",
     "output_type": "stream",
     "text": [
      "\n",
      "Duplicate rows in fraud dataset before cleaning: 0\n"
     ]
    }
   ],
   "source": [
    "# Check for duplicates in fraud dataset\n",
    "print(\"\\nDuplicate rows in fraud dataset before cleaning:\", df_fraud.duplicated().sum())"
   ]
  },
  {
   "cell_type": "code",
   "execution_count": 29,
   "id": "81186397",
   "metadata": {},
   "outputs": [
    {
     "name": "stdout",
     "output_type": "stream",
     "text": [
      "\n",
      "Duplicate rows in IP address dataset before cleaning: 0\n"
     ]
    }
   ],
   "source": [
    "# Check for duplicates in IP address dataset\n",
    "print(\"\\nDuplicate rows in IP address dataset before cleaning:\", df_Address.duplicated().sum())"
   ]
  },
  {
   "cell_type": "markdown",
   "id": "1618ad00",
   "metadata": {},
   "source": [
    "#### Correct Data Types\n",
    "df_fraud['ip_address'] is currently a float64. Since IP addresses are stored as numeric IDs (likely converted from dotted format), I will convert it to integers."
   ]
  },
  {
   "cell_type": "code",
   "execution_count": 7,
   "id": "49fad994",
   "metadata": {},
   "outputs": [
    {
     "name": "stdout",
     "output_type": "stream",
     "text": [
      "\n",
      "Fraud dataset data types before correction:\n",
      "user_id             int64\n",
      "signup_time        object\n",
      "purchase_time      object\n",
      "purchase_value      int64\n",
      "device_id          object\n",
      "source             object\n",
      "browser            object\n",
      "sex                object\n",
      "age                 int64\n",
      "ip_address        float64\n",
      "class               int64\n",
      "dtype: object\n"
     ]
    }
   ],
   "source": [
    "# Check current data types\n",
    "print(\"\\nFraud dataset data types before correction:\")\n",
    "print(df_fraud.dtypes)"
   ]
  },
  {
   "cell_type": "code",
   "execution_count": 8,
   "id": "06322156",
   "metadata": {},
   "outputs": [],
   "source": [
    "# Convert ip_address from float to int\n",
    "df_fraud['ip_address'] = df_fraud['ip_address'].astype('int64')"
   ]
  },
  {
   "cell_type": "code",
   "execution_count": 9,
   "id": "a3221b11",
   "metadata": {},
   "outputs": [],
   "source": [
    "# Convert datetime columns in fraud dataset\n",
    "df_fraud['signup_time'] = pd.to_datetime(df_fraud['signup_time'])\n",
    "df_fraud['purchase_time'] = pd.to_datetime(df_fraud['purchase_time'])"
   ]
  },
  {
   "cell_type": "code",
   "execution_count": 8,
   "id": "d7ba9cab",
   "metadata": {},
   "outputs": [],
   "source": [
    "# Convert class to boolean (since it's binary)\n",
    "df_fraud['class'] = df_fraud['class'].astype(bool)"
   ]
  },
  {
   "cell_type": "code",
   "execution_count": 10,
   "id": "4bce3e10",
   "metadata": {},
   "outputs": [
    {
     "name": "stdout",
     "output_type": "stream",
     "text": [
      "\n",
      "Fraud dataset data types after correction:\n",
      "user_id                    int64\n",
      "signup_time       datetime64[ns]\n",
      "purchase_time     datetime64[ns]\n",
      "purchase_value             int64\n",
      "device_id                 object\n",
      "source                    object\n",
      "browser                   object\n",
      "sex                       object\n",
      "age                        int64\n",
      "ip_address                 int64\n",
      "class                      int64\n",
      "dtype: object\n"
     ]
    }
   ],
   "source": [
    "# Verify data types after conversion\n",
    "print(\"\\nFraud dataset data types after correction:\")\n",
    "print(df_fraud.dtypes)"
   ]
  },
  {
   "cell_type": "code",
   "execution_count": 11,
   "id": "b3b3ae7f",
   "metadata": {},
   "outputs": [
    {
     "name": "stdout",
     "output_type": "stream",
     "text": [
      "\n",
      "IP address dataset data types before correction:\n",
      "lower_bound_ip_address    float64\n",
      "upper_bound_ip_address      int64\n",
      "country                    object\n",
      "dtype: object\n"
     ]
    }
   ],
   "source": [
    "print(\"\\nIP address dataset data types before correction:\")\n",
    "print(df_Address.dtypes)"
   ]
  },
  {
   "cell_type": "code",
   "execution_count": 12,
   "id": "8ee80f0e",
   "metadata": {},
   "outputs": [],
   "source": [
    "# For IP address dataset, ensure numeric columns are correct\n",
    "df_Address['lower_bound_ip_address'] = df_Address['lower_bound_ip_address'].astype('int64')\n",
    "df_Address['upper_bound_ip_address'] = df_Address['upper_bound_ip_address'].astype('int64')\n",
    "df_Address['country'] = df_Address['country'].astype('category')"
   ]
  },
  {
   "cell_type": "code",
   "execution_count": 13,
   "id": "f3a84c66",
   "metadata": {},
   "outputs": [
    {
     "name": "stdout",
     "output_type": "stream",
     "text": [
      "\n",
      "IP address dataset data types after correction:\n",
      "lower_bound_ip_address       int64\n",
      "upper_bound_ip_address       int64\n",
      "country                   category\n",
      "dtype: object\n"
     ]
    }
   ],
   "source": [
    "print(\"\\nIP address dataset data types after correction:\")\n",
    "print(df_Address.dtypes)"
   ]
  },
  {
   "cell_type": "markdown",
   "id": "b91c4ea7",
   "metadata": {},
   "source": [
    "## Univariate analysis"
   ]
  },
  {
   "cell_type": "code",
   "execution_count": null,
   "id": "c32842c4",
   "metadata": {},
   "outputs": [
    {
     "name": "stdout",
     "output_type": "stream",
     "text": [
      "Starting Univariate Analysis...\n"
     ]
    },
    {
     "data": {
      "image/png": "[encoded data removed]",
      "text/plain": [
       "<Figure size 1000x600 with 1 Axes>"
      ]
     },
     "metadata": {},
     "output_type": "display_data"
    }
   ],
   "source": [
    "print(\"Starting Univariate Analysis...\")\n",
    "univariate_analysis(df_fraud, \"age\")"
   ]
  },
  {
   "cell_type": "code",
   "execution_count": 13,
   "id": "03abe77c",
   "metadata": {},
   "outputs": [
    {
     "data": {
      "image/png": "[encoded data removed]",
      "text/plain": [
       "<Figure size 1000x600 with 1 Axes>"
      ]
     },
     "metadata": {},
     "output_type": "display_data"
    }
   ],
   "source": [
    "univariate_analysis(df_fraud, \"purchase_value\")"
   ]
  },
  {
   "cell_type": "code",
   "execution_count": 18,
   "id": "b3ee0427",
   "metadata": {},
   "outputs": [
    {
     "data": {
      "image/png": "[encoded data removed]",
      "text/plain": [
       "<Figure size 1000x600 with 1 Axes>"
      ]
     },
     "metadata": {},
     "output_type": "display_data"
    }
   ],
   "source": [
    "univariate_analysis(df_fraud, \"class\")"
   ]
  },
  {
   "cell_type": "code",
   "execution_count": 15,
   "id": "b0639bf2",
   "metadata": {},
   "outputs": [
    {
     "data": {
      "image/png": "[encoded data removed]",
      "text/plain": [
       "<Figure size 1000x600 with 1 Axes>"
      ]
     },
     "metadata": {},
     "output_type": "display_data"
    }
   ],
   "source": [
    "univariate_analysis(df_fraud, \"browser\")"
   ]
  },
  {
   "cell_type": "code",
   "execution_count": 16,
   "id": "f0fd5b76",
   "metadata": {},
   "outputs": [
    {
     "data": {
      "image/png": "[encoded data removed]",
      "text/plain": [
       "<Figure size 1000x600 with 1 Axes>"
      ]
     },
     "metadata": {},
     "output_type": "display_data"
    }
   ],
   "source": [
    "univariate_analysis(df_fraud, \"source\")"
   ]
  },
  {
   "cell_type": "code",
   "execution_count": 17,
   "id": "7a7c4ad8",
   "metadata": {},
   "outputs": [
    {
     "data": {
      "image/png": "[encoded data removed]",
      "text/plain": [
       "<Figure size 1000x600 with 1 Axes>"
      ]
     },
     "metadata": {},
     "output_type": "display_data"
    }
   ],
   "source": [
    "univariate_analysis(df_fraud, \"sex\")"
   ]
  },
  {
   "cell_type": "markdown",
   "id": "906ca6dc",
   "metadata": {},
   "source": [
    "## Bivariate analysis"
   ]
  },
  {
   "cell_type": "code",
   "execution_count": 19,
   "id": "43746dca",
   "metadata": {},
   "outputs": [
    {
     "name": "stdout",
     "output_type": "stream",
     "text": [
      "Starting Bivariate Analysis...\n"
     ]
    },
    {
     "data": {
      "image/png": "[encoded data removed]",
      "text/plain": [
       "<Figure size 1000x600 with 1 Axes>"
      ]
     },
     "metadata": {},
     "output_type": "display_data"
    }
   ],
   "source": [
    "print(\"Starting Bivariate Analysis...\")\n",
    "bivariate_analysis(df_fraud, \"age\", \"class\")"
   ]
  },
  {
   "cell_type": "code",
   "execution_count": 21,
   "id": "820b1720",
   "metadata": {},
   "outputs": [
    {
     "data": {
      "image/png": "[encoded data removed]",
      "text/plain": [
       "<Figure size 1000x600 with 1 Axes>"
      ]
     },
     "metadata": {},
     "output_type": "display_data"
    }
   ],
   "source": [
    "bivariate_analysis(df_fraud, \"purchase_value\", \"class\")"
   ]
  },
  {
   "cell_type": "code",
   "execution_count": 22,
   "id": "30f3bafa",
   "metadata": {},
   "outputs": [
    {
     "data": {
      "image/png": "[encoded data removed]",
      "text/plain": [
       "<Figure size 1000x600 with 1 Axes>"
      ]
     },
     "metadata": {},
     "output_type": "display_data"
    }
   ],
   "source": [
    "bivariate_analysis(df_fraud, \"source\", \"class\")"
   ]
  },
  {
   "cell_type": "code",
   "execution_count": 23,
   "id": "ebd8cdba",
   "metadata": {},
   "outputs": [
    {
     "data": {
      "image/png": "[encoded data removed]",
      "text/plain": [
       "<Figure size 1000x600 with 1 Axes>"
      ]
     },
     "metadata": {},
     "output_type": "display_data"
    }
   ],
   "source": [
    "bivariate_analysis(df_fraud, \"browser\", \"class\")"
   ]
  },
  {
   "cell_type": "markdown",
   "id": "e6636ec3",
   "metadata": {},
   "source": [
    "### Merge Datasets for Geolocation Analysis"
   ]
  },
  {
   "cell_type": "code",
   "execution_count": 14,
   "id": "09ebf7e7",
   "metadata": {},
   "outputs": [],
   "source": [
    "merged_df = merge_datasets(df_fraud, df_Address)\n"
   ]
  },
  {
   "cell_type": "code",
   "execution_count": 15,
   "id": "eae26520",
   "metadata": {},
   "outputs": [
    {
     "name": "stdout",
     "output_type": "stream",
     "text": [
      "   user_id         signup_time       purchase_time  purchase_value  \\\n",
      "0    22058 2015-02-24 22:55:00 2015-04-18 02:47:00              34   \n",
      "1   333320 2015-06-07 20:39:00 2015-06-08 01:38:00              16   \n",
      "2     1359 2015-01-01 18:52:00 2015-01-01 18:52:00              15   \n",
      "3   150084 2015-04-28 21:13:00 2015-05-04 13:54:00              44   \n",
      "4   221365 2015-07-21 07:09:00 2015-09-09 18:40:00              39   \n",
      "\n",
      "       device_id source browser sex  age  ip_address  class    ip_numeric  \\\n",
      "0  QVPSPJUOCKZAR    SEO  Chrome   M   39   732758368      0  7.327584e+08   \n",
      "1  EOGFQPIZPYXFZ    Ads  Chrome   F   53   350311387      0  3.503114e+08   \n",
      "2  YSSKYOSJHPPLJ    SEO   Opera   M   53  2621473820      1  2.621474e+09   \n",
      "3  ATGTXKYKUDUQN    SEO  Safari   M   41  3840542444      0  3.840542e+09   \n",
      "4  NAUITBZFJKHWW    Ads  Safari   M   45   415583117      0  4.155831e+08   \n",
      "\n",
      "         country  \n",
      "0          Japan  \n",
      "1  United States  \n",
      "2  United States  \n",
      "3            NaN  \n",
      "4  United States  \n"
     ]
    }
   ],
   "source": [
    "print(merged_df.head())"
   ]
  },
  {
   "cell_type": "markdown",
   "id": "d5b25ede",
   "metadata": {},
   "source": [
    "## Handling Class Imbalance in Fraud Detection\n",
    "I'll implement a comprehensive solution for handling class imbalance in the fraud dataset, analyzing the distribution and applying appropriate sampling techniques."
   ]
  },
  {
   "cell_type": "markdown",
   "id": "7235f4cf",
   "metadata": {},
   "source": [
    "#### Analyze Class Distribution"
   ]
  },
  {
   "cell_type": "code",
   "execution_count": 16,
   "id": "a10c72c4",
   "metadata": {},
   "outputs": [
    {
     "name": "stdout",
     "output_type": "stream",
     "text": [
      "Class Distribution:\n",
      "class\n",
      "0    0.906354\n",
      "1    0.093646\n",
      "Name: proportion, dtype: float64\n"
     ]
    },
    {
     "data": {
      "image/png": "[encoded data removed]",
      "text/plain": [
       "<Figure size 800x500 with 1 Axes>"
      ]
     },
     "metadata": {},
     "output_type": "display_data"
    },
    {
     "data": {
      "text/plain": [
       "{'class_counts': {0: 136961, 1: 14151},\n",
       " 'class_ratios': {0: 0.9063542273280746, 1: 0.09364577267192546}}"
      ]
     },
     "execution_count": 16,
     "metadata": {},
     "output_type": "execute_result"
    }
   ],
   "source": [
    "analyze_class_distribution(merged_df)"
   ]
  },
  {
   "cell_type": "code",
   "execution_count": 17,
   "id": "3b886c41",
   "metadata": {},
   "outputs": [],
   "source": [
    "prepro = preprocess(merged_df)"
   ]
  },
  {
   "cell_type": "markdown",
   "id": "2518fa9d",
   "metadata": {},
   "source": [
    "### Feature Engineering"
   ]
  },
  {
   "cell_type": "code",
   "execution_count": 18,
   "id": "bcbe6e01",
   "metadata": {},
   "outputs": [
    {
     "name": "stdout",
     "output_type": "stream",
     "text": [
      "Engineering transaction frequency and velocity features...\n",
      "Engineering time-based features...\n",
      "Calculating time since signup...\n",
      "Creating additional features...\n"
     ]
    }
   ],
   "source": [
    "feature_engineered = prepro.engineer_features()"
   ]
  },
  {
   "cell_type": "code",
   "execution_count": 19,
   "id": "59cdc3be",
   "metadata": {},
   "outputs": [],
   "source": [
    "feature_engineered.to_csv('../Data/preprocessed_merged.csv')"
   ]
  },
  {
   "cell_type": "code",
   "execution_count": 12,
   "id": "eb58be18",
   "metadata": {},
   "outputs": [],
   "source": [
    "df = pd.read_csv('../Data/preprocessed_merged.csv')"
   ]
  },
  {
   "cell_type": "code",
   "execution_count": 3,
   "id": "cfed5fd0",
   "metadata": {},
   "outputs": [
    {
     "data": {
      "text/html": [
       "<div>\n",
       "<style scoped>\n",
       "    .dataframe tbody tr th:only-of-type {\n",
       "        vertical-align: middle;\n",
       "    }\n",
       "\n",
       "    .dataframe tbody tr th {\n",
       "        vertical-align: top;\n",
       "    }\n",
       "\n",
       "    .dataframe thead th {\n",
       "        text-align: right;\n",
       "    }\n",
       "</style>\n",
       "<table border=\"1\" class=\"dataframe\">\n",
       "  <thead>\n",
       "    <tr style=\"text-align: right;\">\n",
       "      <th></th>\n",
       "      <th>Unnamed: 0</th>\n",
       "      <th>user_id</th>\n",
       "      <th>signup_time</th>\n",
       "      <th>purchase_time</th>\n",
       "      <th>purchase_value</th>\n",
       "      <th>device_id</th>\n",
       "      <th>source</th>\n",
       "      <th>browser</th>\n",
       "      <th>sex</th>\n",
       "      <th>age</th>\n",
       "      <th>...</th>\n",
       "      <th>ip_numeric</th>\n",
       "      <th>country</th>\n",
       "      <th>time_since_last_txn</th>\n",
       "      <th>txn_count</th>\n",
       "      <th>hour_of_day</th>\n",
       "      <th>day_of_week</th>\n",
       "      <th>time_of_day</th>\n",
       "      <th>time_since_signup</th>\n",
       "      <th>is_weekend</th>\n",
       "      <th>browser_popularity</th>\n",
       "    </tr>\n",
       "  </thead>\n",
       "  <tbody>\n",
       "    <tr>\n",
       "      <th>0</th>\n",
       "      <td>116708</td>\n",
       "      <td>2</td>\n",
       "      <td>2015-01-11 03:47:00</td>\n",
       "      <td>2015-02-21 10:03:00</td>\n",
       "      <td>54</td>\n",
       "      <td>FGBQNDNBETFJJ</td>\n",
       "      <td>SEO</td>\n",
       "      <td>Chrome</td>\n",
       "      <td>F</td>\n",
       "      <td>25</td>\n",
       "      <td>...</td>\n",
       "      <td>8.802175e+08</td>\n",
       "      <td>United States</td>\n",
       "      <td>NaN</td>\n",
       "      <td>1</td>\n",
       "      <td>10</td>\n",
       "      <td>5</td>\n",
       "      <td>Morning</td>\n",
       "      <td>990.266667</td>\n",
       "      <td>1</td>\n",
       "      <td>0.406533</td>\n",
       "    </tr>\n",
       "    <tr>\n",
       "      <th>1</th>\n",
       "      <td>15108</td>\n",
       "      <td>4</td>\n",
       "      <td>2015-06-02 16:40:00</td>\n",
       "      <td>2015-09-26 21:32:00</td>\n",
       "      <td>41</td>\n",
       "      <td>MKFUIVOHLJBYN</td>\n",
       "      <td>Direct</td>\n",
       "      <td>Safari</td>\n",
       "      <td>F</td>\n",
       "      <td>38</td>\n",
       "      <td>...</td>\n",
       "      <td>2.785906e+09</td>\n",
       "      <td>Switzerland</td>\n",
       "      <td>NaN</td>\n",
       "      <td>1</td>\n",
       "      <td>21</td>\n",
       "      <td>5</td>\n",
       "      <td>Evening</td>\n",
       "      <td>2788.866667</td>\n",
       "      <td>1</td>\n",
       "      <td>0.163237</td>\n",
       "    </tr>\n",
       "    <tr>\n",
       "      <th>2</th>\n",
       "      <td>46047</td>\n",
       "      <td>8</td>\n",
       "      <td>2015-05-28 07:53:00</td>\n",
       "      <td>2015-08-13 11:53:00</td>\n",
       "      <td>47</td>\n",
       "      <td>SCQGQALXBUQZJ</td>\n",
       "      <td>SEO</td>\n",
       "      <td>Chrome</td>\n",
       "      <td>M</td>\n",
       "      <td>25</td>\n",
       "      <td>...</td>\n",
       "      <td>3.560567e+08</td>\n",
       "      <td>United States</td>\n",
       "      <td>NaN</td>\n",
       "      <td>1</td>\n",
       "      <td>11</td>\n",
       "      <td>3</td>\n",
       "      <td>Morning</td>\n",
       "      <td>1852.000000</td>\n",
       "      <td>0</td>\n",
       "      <td>0.406533</td>\n",
       "    </tr>\n",
       "    <tr>\n",
       "      <th>3</th>\n",
       "      <td>67650</td>\n",
       "      <td>9</td>\n",
       "      <td>2015-05-16 15:58:00</td>\n",
       "      <td>2015-05-20 23:06:00</td>\n",
       "      <td>62</td>\n",
       "      <td>IEZOHXPZBIRTE</td>\n",
       "      <td>SEO</td>\n",
       "      <td>FireFox</td>\n",
       "      <td>M</td>\n",
       "      <td>21</td>\n",
       "      <td>...</td>\n",
       "      <td>7.591047e+08</td>\n",
       "      <td>NaN</td>\n",
       "      <td>NaN</td>\n",
       "      <td>1</td>\n",
       "      <td>23</td>\n",
       "      <td>2</td>\n",
       "      <td>Evening</td>\n",
       "      <td>103.133333</td>\n",
       "      <td>0</td>\n",
       "      <td>0.162859</td>\n",
       "    </tr>\n",
       "    <tr>\n",
       "      <th>4</th>\n",
       "      <td>109067</td>\n",
       "      <td>12</td>\n",
       "      <td>2015-01-10 06:25:00</td>\n",
       "      <td>2015-03-04 20:56:00</td>\n",
       "      <td>35</td>\n",
       "      <td>MSNWCFEHKTIOY</td>\n",
       "      <td>Ads</td>\n",
       "      <td>Safari</td>\n",
       "      <td>M</td>\n",
       "      <td>19</td>\n",
       "      <td>...</td>\n",
       "      <td>2.985180e+09</td>\n",
       "      <td>Mexico</td>\n",
       "      <td>NaN</td>\n",
       "      <td>1</td>\n",
       "      <td>20</td>\n",
       "      <td>2</td>\n",
       "      <td>Evening</td>\n",
       "      <td>1286.516667</td>\n",
       "      <td>0</td>\n",
       "      <td>0.163237</td>\n",
       "    </tr>\n",
       "  </tbody>\n",
       "</table>\n",
       "<p>5 rows × 22 columns</p>\n",
       "</div>"
      ],
      "text/plain": [
       "   Unnamed: 0  user_id          signup_time        purchase_time  \\\n",
       "0      116708        2  2015-01-11 03:47:00  2015-02-21 10:03:00   \n",
       "1       15108        4  2015-06-02 16:40:00  2015-09-26 21:32:00   \n",
       "2       46047        8  2015-05-28 07:53:00  2015-08-13 11:53:00   \n",
       "3       67650        9  2015-05-16 15:58:00  2015-05-20 23:06:00   \n",
       "4      109067       12  2015-01-10 06:25:00  2015-03-04 20:56:00   \n",
       "\n",
       "   purchase_value      device_id  source  browser sex  age  ...    ip_numeric  \\\n",
       "0              54  FGBQNDNBETFJJ     SEO   Chrome   F   25  ...  8.802175e+08   \n",
       "1              41  MKFUIVOHLJBYN  Direct   Safari   F   38  ...  2.785906e+09   \n",
       "2              47  SCQGQALXBUQZJ     SEO   Chrome   M   25  ...  3.560567e+08   \n",
       "3              62  IEZOHXPZBIRTE     SEO  FireFox   M   21  ...  7.591047e+08   \n",
       "4              35  MSNWCFEHKTIOY     Ads   Safari   M   19  ...  2.985180e+09   \n",
       "\n",
       "         country  time_since_last_txn txn_count  hour_of_day  day_of_week  \\\n",
       "0  United States                  NaN         1           10            5   \n",
       "1    Switzerland                  NaN         1           21            5   \n",
       "2  United States                  NaN         1           11            3   \n",
       "3            NaN                  NaN         1           23            2   \n",
       "4         Mexico                  NaN         1           20            2   \n",
       "\n",
       "   time_of_day  time_since_signup is_weekend  browser_popularity  \n",
       "0      Morning         990.266667          1            0.406533  \n",
       "1      Evening        2788.866667          1            0.163237  \n",
       "2      Morning        1852.000000          0            0.406533  \n",
       "3      Evening         103.133333          0            0.162859  \n",
       "4      Evening        1286.516667          0            0.163237  \n",
       "\n",
       "[5 rows x 22 columns]"
      ]
     },
     "execution_count": 3,
     "metadata": {},
     "output_type": "execute_result"
    }
   ],
   "source": [
    "df.head()"
   ]
  },
  {
   "cell_type": "code",
   "execution_count": 17,
   "id": "29a2ff4e",
   "metadata": {},
   "outputs": [
    {
     "data": {
      "text/plain": [
       "Index(['Unnamed: 0', 'user_id', 'signup_time', 'purchase_time',\n",
       "       'purchase_value', 'device_id', 'source', 'browser', 'sex', 'age',\n",
       "       'ip_address', 'class', 'ip_numeric', 'country', 'time_since_last_txn',\n",
       "       'txn_count', 'hour_of_day', 'day_of_week', 'time_of_day',\n",
       "       'time_since_signup', 'is_weekend', 'browser_popularity'],\n",
       "      dtype='object')"
      ]
     },
     "execution_count": 17,
     "metadata": {},
     "output_type": "execute_result"
    }
   ],
   "source": [
    "df.columns"
   ]
  },
  {
   "cell_type": "code",
   "execution_count": 13,
   "id": "d24130e2",
   "metadata": {},
   "outputs": [],
   "source": [
    "df = df.drop(columns=['Unnamed: 0', 'time_since_last_txn', 'device_id', 'sex', 'ip_address', 'signup_time', 'purchase_time'], axis=1)"
   ]
  },
  {
   "cell_type": "code",
   "execution_count": 20,
   "id": "523c1356",
   "metadata": {},
   "outputs": [
    {
     "data": {
      "text/plain": [
       "user_id                   0\n",
       "signup_time               0\n",
       "purchase_time             0\n",
       "purchase_value            0\n",
       "source                    0\n",
       "browser                   0\n",
       "age                       0\n",
       "class                     0\n",
       "ip_numeric                0\n",
       "country               21969\n",
       "txn_count                 0\n",
       "hour_of_day               0\n",
       "day_of_week               0\n",
       "time_of_day               0\n",
       "time_since_signup         0\n",
       "is_weekend                0\n",
       "browser_popularity        0\n",
       "dtype: int64"
      ]
     },
     "execution_count": 20,
     "metadata": {},
     "output_type": "execute_result"
    }
   ],
   "source": [
    "df.isna().sum()"
   ]
  },
  {
   "cell_type": "code",
   "execution_count": 5,
   "id": "ba3a66fb",
   "metadata": {},
   "outputs": [
    {
     "data": {
      "text/plain": [
       "151112"
      ]
     },
     "execution_count": 5,
     "metadata": {},
     "output_type": "execute_result"
    }
   ],
   "source": [
    "# removing rows that have a country column null \n",
    "# Drop rows where 'country' is null\n",
    "len(df)"
   ]
  },
  {
   "cell_type": "code",
   "execution_count": 4,
   "id": "e92cdeee",
   "metadata": {},
   "outputs": [
    {
     "data": {
      "text/plain": [
       "129143"
      ]
     },
     "execution_count": 4,
     "metadata": {},
     "output_type": "execute_result"
    }
   ],
   "source": [
    "df = df.dropna(subset=[\"country\"])\n",
    "len(df)"
   ]
  },
  {
   "cell_type": "code",
   "execution_count": 6,
   "id": "278cf0f3",
   "metadata": {},
   "outputs": [
    {
     "name": "stdout",
     "output_type": "stream",
     "text": [
      "   user_id        purchase_time  txn_count  hour_of_day  day_of_week  \\\n",
      "0        2  2015-02-21 10:03:00          1           10            5   \n",
      "1        4  2015-09-26 21:32:00          1           21            5   \n",
      "2        8  2015-08-13 11:53:00          1           11            3   \n",
      "4       12  2015-03-04 20:56:00          1           20            2   \n",
      "5       16  2015-03-12 12:46:00          1           12            3   \n",
      "\n",
      "   time_since_signup  \n",
      "0         990.266667  \n",
      "1        2788.866667  \n",
      "2        1852.000000  \n",
      "4        1286.516667  \n",
      "5         886.966667  \n"
     ]
    }
   ],
   "source": [
    "# Display the new features\n",
    "print(df[['user_id', 'purchase_time', 'txn_count', 'hour_of_day', 'day_of_week', \n",
    "                    'time_since_signup']].head())"
   ]
  },
  {
   "cell_type": "code",
   "execution_count": 9,
   "id": "1f410ec2",
   "metadata": {},
   "outputs": [
    {
     "name": "stdout",
     "output_type": "stream",
     "text": [
      "\n",
      "Transaction velocity statistics by fraud class:\n",
      "          count         mean         std       min      25%     50%  \\\n",
      "class                                                                 \n",
      "0      116875.0  1442.288791  830.249054  0.033333  720.275  1444.3   \n",
      "1       12268.0   667.513566  919.495461  0.000000    0.000     0.0   \n",
      "\n",
      "               75%          max  \n",
      "class                            \n",
      "0      2161.391667  2879.983333  \n",
      "1      1316.241667  2878.883333  \n"
     ]
    }
   ],
   "source": [
    "# After running engineer_features(), you can analyze the new features:\n",
    "import matplotlib.pyplot as plt\n",
    "# 1. Analyze transaction velocity\n",
    "velocity_stats = df.groupby('class')['time_since_signup'].describe()\n",
    "print(\"\\nTransaction velocity statistics by fraud class:\")\n",
    "print(velocity_stats)"
   ]
  },
  {
   "cell_type": "code",
   "execution_count": 27,
   "id": "9e460f37",
   "metadata": {},
   "outputs": [
    {
     "data": {
      "image/png": "[encoded data removed]",
      "text/plain": [
       "<Figure size 1200x600 with 1 Axes>"
      ]
     },
     "metadata": {},
     "output_type": "display_data"
    }
   ],
   "source": [
    "# 2. Analyze time patterns\n",
    "time_patterns = df.groupby(['hour_of_day', 'class']).size().unstack()\n",
    "time_patterns.plot(kind='bar', stacked=True, figsize=(12, 6))\n",
    "plt.title('Transaction Frequency by Hour and Fraud Status')\n",
    "plt.show()"
   ]
  },
  {
   "cell_type": "code",
   "execution_count": 10,
   "id": "7a2eeffd",
   "metadata": {},
   "outputs": [
    {
     "name": "stdout",
     "output_type": "stream",
     "text": [
      "\n",
      "Time since signup statistics by fraud class:\n",
      "          count         mean         std       min      25%     50%  \\\n",
      "class                                                                 \n",
      "0      116875.0  1442.288791  830.249054  0.033333  720.275  1444.3   \n",
      "1       12268.0   667.513566  919.495461  0.000000    0.000     0.0   \n",
      "\n",
      "               75%          max  \n",
      "class                            \n",
      "0      2161.391667  2879.983333  \n",
      "1      1316.241667  2878.883333  \n"
     ]
    }
   ],
   "source": [
    "# 3. Analyze time since signup\n",
    "signup_analysis = df.groupby('class')['time_since_signup'].describe()\n",
    "print(\"\\nTime since signup statistics by fraud class:\")\n",
    "print(signup_analysis)"
   ]
  },
  {
   "cell_type": "markdown",
   "id": "5cc554b6",
   "metadata": {},
   "source": [
    "#### Data Splitting (Before Resampling)"
   ]
  },
  {
   "cell_type": "code",
   "execution_count": 14,
   "id": "44c4e3de",
   "metadata": {},
   "outputs": [],
   "source": [
    "prepro1 = preprocess(df)"
   ]
  },
  {
   "cell_type": "code",
   "execution_count": 15,
   "id": "f97572ea",
   "metadata": {},
   "outputs": [],
   "source": [
    "X_train, X_test, y_train, y_test = prepro1.split_data()"
   ]
  },
  {
   "cell_type": "code",
   "execution_count": 24,
   "id": "d2ce62ac",
   "metadata": {},
   "outputs": [
    {
     "name": "stdout",
     "output_type": "stream",
     "text": [
      "        user_id          signup_time        purchase_time  purchase_value  \\\n",
      "45807    121469  2015-02-04 08:14:00  2015-04-22 23:26:00              55   \n",
      "826        2306  2015-01-20 14:15:00  2015-02-01 21:08:00              43   \n",
      "101394   268431  2015-02-25 22:26:00  2015-04-15 15:57:00              16   \n",
      "129925   344071  2015-04-18 23:57:00  2015-06-10 12:13:00              24   \n",
      "20930     55789  2015-02-26 20:30:00  2015-04-16 22:04:00              32   \n",
      "...         ...                  ...                  ...             ...   \n",
      "116632   308844  2015-04-03 05:00:00  2015-05-12 21:24:00              15   \n",
      "114944   304410  2015-04-02 10:47:00  2015-04-26 19:11:00              44   \n",
      "75832    200692  2015-04-08 07:06:00  2015-08-03 05:35:00              64   \n",
      "61433    162732  2015-05-04 04:53:00  2015-08-11 21:04:00              29   \n",
      "48853    129637  2015-08-01 02:29:00  2015-08-22 21:19:00              56   \n",
      "\n",
      "        source browser  age    ip_numeric        country  txn_count  \\\n",
      "45807      SEO  Chrome   45  9.815843e+08          China          1   \n",
      "826        Ads      IE   38  2.067908e+09          China          1   \n",
      "101394     Ads  Chrome   31  2.995917e+08  United States          1   \n",
      "129925     SEO  Chrome   46  1.772333e+09          Kenya          1   \n",
      "20930      SEO      IE   39  1.870598e+09          China          1   \n",
      "...        ...     ...  ...           ...            ...        ...   \n",
      "116632     Ads   Opera   39  2.553207e+09  United States          1   \n",
      "114944     Ads  Chrome   43  5.565406e+07  United States          1   \n",
      "75832      Ads  Chrome   26  1.642448e+09  United States          1   \n",
      "61433   Direct      IE   26  3.639512e+09  United States          1   \n",
      "48853      Ads  Chrome   34  4.131197e+08  United States          1   \n",
      "\n",
      "        hour_of_day  day_of_week time_of_day  time_since_signup  is_weekend  \\\n",
      "45807            23            2     Evening        1863.200000           0   \n",
      "826              21            6     Evening         294.883333           1   \n",
      "101394           15            2   Afternoon        1169.516667           0   \n",
      "129925           12            2   Afternoon        1260.266667           0   \n",
      "20930            22            3     Evening        1177.566667           0   \n",
      "...             ...          ...         ...                ...         ...   \n",
      "116632           21            1     Evening         952.400000           0   \n",
      "114944           19            6     Evening         584.400000           1   \n",
      "75832             5            0       Night        2806.483333           0   \n",
      "61433            21            1     Evening        2392.183333           0   \n",
      "48853            21            5     Evening         522.833333           1   \n",
      "\n",
      "        browser_popularity  \n",
      "45807             0.406533  \n",
      "826               0.243045  \n",
      "101394            0.406533  \n",
      "129925            0.406533  \n",
      "20930             0.243045  \n",
      "...                    ...  \n",
      "116632            0.024326  \n",
      "114944            0.406533  \n",
      "75832             0.406533  \n",
      "61433             0.243045  \n",
      "48853             0.406533  \n",
      "\n",
      "[90400 rows x 16 columns]\n"
     ]
    }
   ],
   "source": [
    "print(X_train)"
   ]
  },
  {
   "cell_type": "code",
   "execution_count": 14,
   "id": "0c2f78f9",
   "metadata": {},
   "outputs": [
    {
     "name": "stdout",
     "output_type": "stream",
     "text": [
      "45807     0\n",
      "826       0\n",
      "101394    0\n",
      "129925    0\n",
      "20930     0\n",
      "         ..\n",
      "116632    0\n",
      "114944    0\n",
      "75832     1\n",
      "61433     1\n",
      "48853     0\n",
      "Name: class, Length: 90400, dtype: int64\n"
     ]
    }
   ],
   "source": [
    "print(y_train)"
   ]
  },
  {
   "cell_type": "code",
   "execution_count": 24,
   "id": "22bdf701",
   "metadata": {},
   "outputs": [
    {
     "data": {
      "text/html": [
       "<div>\n",
       "<style scoped>\n",
       "    .dataframe tbody tr th:only-of-type {\n",
       "        vertical-align: middle;\n",
       "    }\n",
       "\n",
       "    .dataframe tbody tr th {\n",
       "        vertical-align: top;\n",
       "    }\n",
       "\n",
       "    .dataframe thead th {\n",
       "        text-align: right;\n",
       "    }\n",
       "</style>\n",
       "<table border=\"1\" class=\"dataframe\">\n",
       "  <thead>\n",
       "    <tr style=\"text-align: right;\">\n",
       "      <th></th>\n",
       "      <th>user_id</th>\n",
       "      <th>signup_time</th>\n",
       "      <th>purchase_time</th>\n",
       "      <th>purchase_value</th>\n",
       "      <th>device_id</th>\n",
       "      <th>source</th>\n",
       "      <th>browser</th>\n",
       "      <th>sex</th>\n",
       "      <th>age</th>\n",
       "      <th>ip_address</th>\n",
       "      <th>ip_numeric</th>\n",
       "      <th>country</th>\n",
       "      <th>txn_count</th>\n",
       "      <th>hour_of_day</th>\n",
       "      <th>day_of_week</th>\n",
       "      <th>time_of_day</th>\n",
       "      <th>time_since_signup</th>\n",
       "      <th>is_weekend</th>\n",
       "      <th>browser_popularity</th>\n",
       "    </tr>\n",
       "  </thead>\n",
       "  <tbody>\n",
       "    <tr>\n",
       "      <th>45807</th>\n",
       "      <td>121469</td>\n",
       "      <td>2015-02-04 08:14:00</td>\n",
       "      <td>2015-04-22 23:26:00</td>\n",
       "      <td>55</td>\n",
       "      <td>BUNFDAXZZLDFO</td>\n",
       "      <td>SEO</td>\n",
       "      <td>Chrome</td>\n",
       "      <td>M</td>\n",
       "      <td>45</td>\n",
       "      <td>981584336</td>\n",
       "      <td>9.815843e+08</td>\n",
       "      <td>China</td>\n",
       "      <td>1</td>\n",
       "      <td>23</td>\n",
       "      <td>2</td>\n",
       "      <td>Evening</td>\n",
       "      <td>1863.200000</td>\n",
       "      <td>0</td>\n",
       "      <td>0.406533</td>\n",
       "    </tr>\n",
       "    <tr>\n",
       "      <th>826</th>\n",
       "      <td>2306</td>\n",
       "      <td>2015-01-20 14:15:00</td>\n",
       "      <td>2015-02-01 21:08:00</td>\n",
       "      <td>43</td>\n",
       "      <td>RIQNJNCAVXTZG</td>\n",
       "      <td>Ads</td>\n",
       "      <td>IE</td>\n",
       "      <td>F</td>\n",
       "      <td>38</td>\n",
       "      <td>2067908227</td>\n",
       "      <td>2.067908e+09</td>\n",
       "      <td>China</td>\n",
       "      <td>1</td>\n",
       "      <td>21</td>\n",
       "      <td>6</td>\n",
       "      <td>Evening</td>\n",
       "      <td>294.883333</td>\n",
       "      <td>1</td>\n",
       "      <td>0.243045</td>\n",
       "    </tr>\n",
       "    <tr>\n",
       "      <th>101394</th>\n",
       "      <td>268431</td>\n",
       "      <td>2015-02-25 22:26:00</td>\n",
       "      <td>2015-04-15 15:57:00</td>\n",
       "      <td>16</td>\n",
       "      <td>TIDSANCIXYGZD</td>\n",
       "      <td>Ads</td>\n",
       "      <td>Chrome</td>\n",
       "      <td>F</td>\n",
       "      <td>31</td>\n",
       "      <td>299591695</td>\n",
       "      <td>2.995917e+08</td>\n",
       "      <td>United States</td>\n",
       "      <td>1</td>\n",
       "      <td>15</td>\n",
       "      <td>2</td>\n",
       "      <td>Afternoon</td>\n",
       "      <td>1169.516667</td>\n",
       "      <td>0</td>\n",
       "      <td>0.406533</td>\n",
       "    </tr>\n",
       "    <tr>\n",
       "      <th>129925</th>\n",
       "      <td>344071</td>\n",
       "      <td>2015-04-18 23:57:00</td>\n",
       "      <td>2015-06-10 12:13:00</td>\n",
       "      <td>24</td>\n",
       "      <td>TKWUUFLBRRQUO</td>\n",
       "      <td>SEO</td>\n",
       "      <td>Chrome</td>\n",
       "      <td>F</td>\n",
       "      <td>46</td>\n",
       "      <td>1772333050</td>\n",
       "      <td>1.772333e+09</td>\n",
       "      <td>Kenya</td>\n",
       "      <td>1</td>\n",
       "      <td>12</td>\n",
       "      <td>2</td>\n",
       "      <td>Afternoon</td>\n",
       "      <td>1260.266667</td>\n",
       "      <td>0</td>\n",
       "      <td>0.406533</td>\n",
       "    </tr>\n",
       "    <tr>\n",
       "      <th>20930</th>\n",
       "      <td>55789</td>\n",
       "      <td>2015-02-26 20:30:00</td>\n",
       "      <td>2015-04-16 22:04:00</td>\n",
       "      <td>32</td>\n",
       "      <td>DNYWPFYSXOKYD</td>\n",
       "      <td>SEO</td>\n",
       "      <td>IE</td>\n",
       "      <td>F</td>\n",
       "      <td>39</td>\n",
       "      <td>1870598299</td>\n",
       "      <td>1.870598e+09</td>\n",
       "      <td>China</td>\n",
       "      <td>1</td>\n",
       "      <td>22</td>\n",
       "      <td>3</td>\n",
       "      <td>Evening</td>\n",
       "      <td>1177.566667</td>\n",
       "      <td>0</td>\n",
       "      <td>0.243045</td>\n",
       "    </tr>\n",
       "  </tbody>\n",
       "</table>\n",
       "</div>"
      ],
      "text/plain": [
       "        user_id         signup_time       purchase_time  purchase_value  \\\n",
       "45807    121469 2015-02-04 08:14:00 2015-04-22 23:26:00              55   \n",
       "826        2306 2015-01-20 14:15:00 2015-02-01 21:08:00              43   \n",
       "101394   268431 2015-02-25 22:26:00 2015-04-15 15:57:00              16   \n",
       "129925   344071 2015-04-18 23:57:00 2015-06-10 12:13:00              24   \n",
       "20930     55789 2015-02-26 20:30:00 2015-04-16 22:04:00              32   \n",
       "\n",
       "            device_id source browser sex  age  ip_address    ip_numeric  \\\n",
       "45807   BUNFDAXZZLDFO    SEO  Chrome   M   45   981584336  9.815843e+08   \n",
       "826     RIQNJNCAVXTZG    Ads      IE   F   38  2067908227  2.067908e+09   \n",
       "101394  TIDSANCIXYGZD    Ads  Chrome   F   31   299591695  2.995917e+08   \n",
       "129925  TKWUUFLBRRQUO    SEO  Chrome   F   46  1772333050  1.772333e+09   \n",
       "20930   DNYWPFYSXOKYD    SEO      IE   F   39  1870598299  1.870598e+09   \n",
       "\n",
       "              country  txn_count  hour_of_day  day_of_week time_of_day  \\\n",
       "45807           China          1           23            2     Evening   \n",
       "826             China          1           21            6     Evening   \n",
       "101394  United States          1           15            2   Afternoon   \n",
       "129925          Kenya          1           12            2   Afternoon   \n",
       "20930           China          1           22            3     Evening   \n",
       "\n",
       "        time_since_signup  is_weekend  browser_popularity  \n",
       "45807         1863.200000           0            0.406533  \n",
       "826            294.883333           1            0.243045  \n",
       "101394        1169.516667           0            0.406533  \n",
       "129925        1260.266667           0            0.406533  \n",
       "20930         1177.566667           0            0.243045  "
      ]
     },
     "execution_count": 24,
     "metadata": {},
     "output_type": "execute_result"
    }
   ],
   "source": [
    "X_train.head()"
   ]
  },
  {
   "cell_type": "code",
   "execution_count": 8,
   "id": "62e2b024",
   "metadata": {},
   "outputs": [],
   "source": [
    "# Convert datetime columns in fraud dataset\n",
    "X_train['signup_time'] = pd.to_datetime(X_train['signup_time'])\n",
    "X_train['purchase_time'] = pd.to_datetime(X_train['purchase_time'])"
   ]
  },
  {
   "cell_type": "code",
   "execution_count": 16,
   "id": "77f4a0ca",
   "metadata": {},
   "outputs": [
    {
     "name": "stdout",
     "output_type": "stream",
     "text": [
      "Non-numeric columns before SMOTE: Index(['source', 'browser', 'country', 'time_of_day'], dtype='object')\n"
     ]
    }
   ],
   "source": [
    "non_numeric_cols = X_train.select_dtypes(include=['object', 'category']).columns\n",
    "print(\"Non-numeric columns before SMOTE:\", non_numeric_cols)"
   ]
  },
  {
   "cell_type": "code",
   "execution_count": 17,
   "id": "4ca334bb",
   "metadata": {},
   "outputs": [],
   "source": [
    "X_train = pd.get_dummies(X_train, drop_first=True)\n",
    "X_test = pd.get_dummies(X_test, drop_first=True)\n",
    "\n",
    "# Align columns: fill missing columns with 0\n",
    "X_test = X_test.reindex(columns=X_train.columns, fill_value=0)\n"
   ]
  },
  {
   "cell_type": "code",
   "execution_count": 29,
   "id": "019529ed",
   "metadata": {},
   "outputs": [
    {
     "name": "stdout",
     "output_type": "stream",
     "text": [
      "<class 'pandas.core.frame.DataFrame'>\n",
      "Index: 90400 entries, 45807 to 48853\n",
      "Columns: 197 entries, user_id to time_of_day_Night\n",
      "dtypes: bool(185), datetime64[ns](2), float64(3), int64(7)\n",
      "memory usage: 24.9 MB\n"
     ]
    }
   ],
   "source": [
    "X_train.info()"
   ]
  },
  {
   "cell_type": "markdown",
   "id": "05e89dcd",
   "metadata": {},
   "source": [
    "## Sampling Techniques Implementation"
   ]
  },
  {
   "cell_type": "markdown",
   "id": "2a009450",
   "metadata": {},
   "source": [
    "#### SMOTE (Synthetic Minority Oversampling Technique)"
   ]
  },
  {
   "cell_type": "code",
   "execution_count": 18,
   "id": "f5df3ae5",
   "metadata": {},
   "outputs": [
    {
     "name": "stdout",
     "output_type": "stream",
     "text": [
      "\n",
      "After SMOTE:\n",
      "class\n",
      "0    95872\n",
      "1    95872\n",
      "Name: count, dtype: int64\n"
     ]
    }
   ],
   "source": [
    "X_train_smote, y_train_smote = prepro1.apply_smote(X_train, y_train)"
   ]
  },
  {
   "cell_type": "markdown",
   "id": "df3eef95",
   "metadata": {},
   "source": [
    "#### Random Undersampling"
   ]
  },
  {
   "cell_type": "code",
   "execution_count": 20,
   "id": "0fe8cdf6",
   "metadata": {},
   "outputs": [
    {
     "name": "stdout",
     "output_type": "stream",
     "text": [
      "\n",
      "After Undersampling:\n",
      "class\n",
      "0    9906\n",
      "1    9906\n",
      "Name: count, dtype: int64\n"
     ]
    }
   ],
   "source": [
    "X_train_rus, y_train_rus = prepro1.apply_undersampling(X_train, y_train)"
   ]
  },
  {
   "cell_type": "markdown",
   "id": "0950a94a",
   "metadata": {},
   "source": [
    "#### Combined SMOTE + Tomek Links"
   ]
  },
  {
   "cell_type": "code",
   "execution_count": 21,
   "id": "a426d853",
   "metadata": {},
   "outputs": [
    {
     "name": "stdout",
     "output_type": "stream",
     "text": [
      "\n",
      "After SMOTE + Tomek Links:\n",
      "class\n",
      "0    86168\n",
      "1    86168\n",
      "Name: count, dtype: int64\n"
     ]
    }
   ],
   "source": [
    "X_train_smt, y_train_smt = prepro1.apply_smotetomek(X_train, y_train)"
   ]
  },
  {
   "cell_type": "code",
   "execution_count": null,
   "id": "df1c32cb",
   "metadata": {},
   "outputs": [],
   "source": []
  }
 ],
 "metadata": {
  "kernelspec": {
   "display_name": ".venv (3.12.8)",
   "language": "python",
   "name": "python3"
  },
  "language_info": {
   "codemirror_mode": {
    "name": "ipython",
    "version": 3
   },
   "file_extension": ".py",
   "mimetype": "text/x-python",
   "name": "python",
   "nbconvert_exporter": "python",
   "pygments_lexer": "ipython3",
   "version": "3.12.8"
  }
 },
 "nbformat": 4,
 "nbformat_minor": 5
}
